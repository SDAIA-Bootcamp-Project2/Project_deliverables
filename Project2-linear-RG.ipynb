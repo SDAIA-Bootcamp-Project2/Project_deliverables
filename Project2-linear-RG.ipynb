{
 "cells": [
  {
   "cell_type": "markdown",
   "metadata": {},
   "source": [
    "# Project2: Linear regression"
   ]
  },
  {
   "cell_type": "markdown",
   "metadata": {},
   "source": [
    "## Import Packeges"
   ]
  },
  {
   "cell_type": "code",
   "execution_count": 1,
   "metadata": {},
   "outputs": [],
   "source": [
    "#pip install seaborn --upgrade"
   ]
  },
  {
   "cell_type": "code",
   "execution_count": 2,
   "metadata": {},
   "outputs": [],
   "source": [
    "import requests, bs4\n",
    "from bs4 import BeautifulSoup as bs\n",
    "from time import sleep\n",
    "import pandas as pd\n",
    "import datetime\n",
    "import numpy as np\n",
    "import matplotlib.pyplot as plt\n",
    "import pickle\n",
    "import statsmodels.api as sm\n",
    "import seaborn as sns\n",
    "from scipy import stats\n",
    "from sklearn.model_selection import train_test_split, KFold\n",
    "from sklearn.linear_model import LinearRegression, Ridge, Lasso\n",
    "from sklearn.preprocessing import StandardScaler\n",
    "from sklearn.metrics import mean_squared_error as mse\n",
    "from sklearn.metrics import mean_absolute_error as mae\n",
    "import warnings;\n",
    "warnings.filterwarnings(\"ignore\");\n",
    "sns.set_theme()\n",
    "from random import randint\n",
    "from IPython.core.display import clear_output\n",
    "\n"
   ]
  },
  {
   "cell_type": "markdown",
   "metadata": {},
   "source": [
    "## Step1: Scraping required data"
   ]
  },
  {
   "cell_type": "code",
   "execution_count": 3,
   "metadata": {},
   "outputs": [],
   "source": [
    "# write a function to generate the links\n",
    "def find_links(year):\n",
    "    # get HTML code for the page with year of choice\n",
    "    url = \"http://www.boxofficemojo.com/year/\" + str(year) + \"/?grossesOption=calendarGrosses\"\n",
    "    response = requests.get(url, verify=False)\n",
    "    soup = bs(response.text)\n",
    "    \n",
    "    # find the website URL's for all 200 movies on this page\n",
    "    links = soup.find_all(class_=\"a-text-left mojo-field-type-release mojo-cell-wide\")\n",
    "    websites = [\"http://www.boxofficemojo.com\" + i.next[\"href\"] for i in links]\n",
    "    \n",
    "    return websites"
   ]
  },
  {
   "cell_type": "code",
   "execution_count": 4,
   "metadata": {},
   "outputs": [],
   "source": [
    "# write a function to collect movie information\n",
    "def get_details(web_links):\n",
    "    data = []\n",
    "    count = 0\n",
    "    countingLoop = 0\n",
    "    print(len(web_links))\n",
    "    for url in web_links:\n",
    "        # create periodic pauses\n",
    "        if count % 15 == 0:\n",
    "            sleep(4)\n",
    "        print(countingLoop)\n",
    "        countingLoop = countingLoop +1\n",
    "        try:\n",
    "            # get the HTML code for each website in the list\n",
    "            response = requests.get(url)\n",
    "            soup = bs(response.text)\n",
    "        except:\n",
    "            # Pause the loop\n",
    "            sleep(30)\n",
    "            #get the HTML code for each website in the list after 5 s\n",
    "            response = requests.get(url)\n",
    "            soup = bs(response.text)\n",
    "            title = None\n",
    "        \n",
    "        # Pause the loop\n",
    "#         sleep(3)\n",
    "        \n",
    "        \n",
    "        \n",
    "        # try to acquire details from this page, otherwise skip\n",
    "        try:\n",
    "            title = soup.find(class_=\"a-size-extra-large\").text\n",
    "        except:\n",
    "            title = None\n",
    "        try:\n",
    "            world = int(soup.find_all(class_=\"a-size-small\")[2].parent.find(class_=\"money\").text\n",
    "                        .replace(\"$\",\"\").replace(\",\",\"\"))\n",
    "        except:\n",
    "            world = None\n",
    "        try:\n",
    "            distrib = soup.find(text=\"Distributor\").next.text\n",
    "            extra_bit = soup.find(text=\"Distributor\").next.find(class_=\"a-size-small a-link-normal\").text\n",
    "            distrib = distrib.replace(extra_bit, \"\")\n",
    "        except:\n",
    "            try:\n",
    "                distrib = soup.find(text=\"Distributor\").next.text\n",
    "            except:\n",
    "                distrib = None\n",
    "        try:\n",
    "            budget = int(soup.find(text=\"Budget\").next.text.replace(\"$\",\"\").replace(\",\",\"\"))\n",
    "        except:\n",
    "            budget = None\n",
    "        if soup.find(text=\"Release Date\"):\n",
    "            try:\n",
    "                release = pd.to_datetime(soup.find(text=\"Release Date\").next.text)\n",
    "            except:\n",
    "                try:\n",
    "                    release = pd.to_datetime(soup.find(text=\"Release Date\").next.text.split(\"\\n            \")[0])\n",
    "                except:\n",
    "                    release = None\n",
    "        else:\n",
    "            try:\n",
    "                release = pd.to_datetime(soup.find(text=\"Release Date\\n        \\n            (Wide)\")\n",
    "                                         .next.text.split(\" (\")[0])\n",
    "            except:\n",
    "                release = None\n",
    "        try:\n",
    "            mpaa = soup.find(text=\"MPAA\").next.text\n",
    "        except:\n",
    "            mpaa = None\n",
    "        try:\n",
    "            run_time = datetime.datetime.strptime(soup.find(text=\"Running Time\").next.text, \"%H hr %M min\")\n",
    "            run_time -= datetime.datetime.strptime(\"00:00\", \"%H:%M\")\n",
    "        except:\n",
    "            try:\n",
    "                run_time = datetime.datetime.strptime(soup.find(text=\"Running Time\").next.text, \"%H hr\")\n",
    "                run_time -= datetime.datetime.strptime(\"00:00\", \"%H:%M\")\n",
    "            except:\n",
    "                try:\n",
    "                    run_time = datetime.datetime.strptime(soup.find(text=\"Running Time\").next.text, \"%M min\")\n",
    "                    run_time -= datetime.datetime.strptime(\"00:00\", \"%H:%M\")\n",
    "                except:\n",
    "                    run_time = None\n",
    "        try:\n",
    "            genre = soup.find(text=\"Genres\").next.text.replace(\"\\n    \", \"\").replace(\"   \",\"\")\n",
    "        except:\n",
    "            genre = None\n",
    "        try:\n",
    "            days = int(soup.find(text=\"In Release\").next.text.split()[0].replace(\",\",\"\"))\n",
    "        except:\n",
    "            days = None\n",
    "        try:\n",
    "            theaters = int(soup.find(text=\"Widest Release\").next.text.split()[0].replace(\",\",\"\"))\n",
    "        except:\n",
    "            try:\n",
    "                theaters = int(soup.find(text=\"Opening\").next.next.next.next.next\n",
    "                               .replace(\"\\n            theaters\", \"\").replace(\",\",\"\"))\n",
    "            except:\n",
    "                theaters = None\n",
    "        try:\n",
    "            rank = int(soup.find(\"td\").parent.find(class_=\"a-text-right mojo-field-type-rank\").text)\n",
    "        except:\n",
    "            rank = None\n",
    "        \n",
    "        # create a dictionary with this information\n",
    "        my_dict = {\"Movie Title\":title, \"Worldwide Gross\":world, \"Distributor\":distrib, \"Budget\": budget,\n",
    "                   \"Release Date\":release, \"MPAA\":mpaa, \"Running Time\": run_time, \"Genres\":genre,\n",
    "                   \"Days In Release\": days, \"Number of Theaters\":theaters, \"Rank on First Day\":rank}\n",
    "        # add each dictionary to a list\n",
    "        data.append(my_dict)\n",
    "        \n",
    "        count += 1\n",
    "    \n",
    "    # return a pandas dataframe made from the list\n",
    "    return pd.DataFrame(data)"
   ]
  },
  {
   "cell_type": "markdown",
   "metadata": {},
   "source": [
    "### 2012 Data"
   ]
  },
  {
   "cell_type": "code",
   "execution_count": 5,
   "metadata": {},
   "outputs": [],
   "source": [
    "# create a dataframe with 2012 movies\n",
    "\n",
    "#df_2012 = get_details(find_links(2012))\n"
   ]
  },
  {
   "cell_type": "code",
   "execution_count": 6,
   "metadata": {},
   "outputs": [],
   "source": [
    "# save in a pickle file\n",
    "# with open(\"df_2012.pickle\", \"wb\") as file:\n",
    "#     pickle.dump(df_2012, file)"
   ]
  },
  {
   "cell_type": "markdown",
   "metadata": {},
   "source": [
    "### 2013 Data"
   ]
  },
  {
   "cell_type": "code",
   "execution_count": 7,
   "metadata": {},
   "outputs": [],
   "source": [
    "# create a dataframe with 2012 movies\n",
    "# df_2013 = get_details(find_links(2013))"
   ]
  },
  {
   "cell_type": "code",
   "execution_count": 8,
   "metadata": {},
   "outputs": [],
   "source": [
    "# save in a pickle file\n",
    "# with open(\"df_2013.pickle\", \"wb\") as file:\n",
    "#     pickle.dump(df_2013, file)"
   ]
  },
  {
   "cell_type": "markdown",
   "metadata": {},
   "source": [
    "### 2014 Data"
   ]
  },
  {
   "cell_type": "code",
   "execution_count": 9,
   "metadata": {},
   "outputs": [],
   "source": [
    "# create a dataframe with 2012 movies\n",
    "# df_2014 = get_details(find_links(2014))"
   ]
  },
  {
   "cell_type": "code",
   "execution_count": 10,
   "metadata": {},
   "outputs": [],
   "source": [
    "# save in a pickle file\n",
    "# with open(\"df_2014.pickle\", \"wb\") as file:\n",
    "#     pickle.dump(df_2014, file)"
   ]
  },
  {
   "cell_type": "markdown",
   "metadata": {},
   "source": [
    "### 2015 Data"
   ]
  },
  {
   "cell_type": "code",
   "execution_count": 11,
   "metadata": {},
   "outputs": [],
   "source": [
    "# create a dataframe with 2012 movies\n",
    "# df_2015 = get_details(find_links(2015))"
   ]
  },
  {
   "cell_type": "code",
   "execution_count": 12,
   "metadata": {},
   "outputs": [],
   "source": [
    "# save in a pickle file\n",
    "# with open(\"df_2015.pickle\", \"wb\") as file:\n",
    "#     pickle.dump(df_2015, file)"
   ]
  },
  {
   "cell_type": "markdown",
   "metadata": {},
   "source": [
    "### 2016 Data"
   ]
  },
  {
   "cell_type": "code",
   "execution_count": 13,
   "metadata": {},
   "outputs": [],
   "source": [
    "# create a dataframe with 2012 movies\n",
    "# df_2016 = get_details(find_links(2016))"
   ]
  },
  {
   "cell_type": "code",
   "execution_count": 14,
   "metadata": {},
   "outputs": [],
   "source": [
    "# save in a pickle file\n",
    "# with open(\"df_2016.pickle\", \"wb\") as file:\n",
    "#     pickle.dump(df_2016, file)"
   ]
  },
  {
   "cell_type": "markdown",
   "metadata": {},
   "source": [
    "### 2017 Data"
   ]
  },
  {
   "cell_type": "code",
   "execution_count": 15,
   "metadata": {},
   "outputs": [],
   "source": [
    "# create a dataframe with 2012 movies\n",
    "# df_2017 = get_details(find_links(2017))"
   ]
  },
  {
   "cell_type": "code",
   "execution_count": 16,
   "metadata": {},
   "outputs": [],
   "source": [
    "# save in a pickle file\n",
    "# with open(\"df_2017.pickle\", \"wb\") as file:\n",
    "#     pickle.dump(df_2017, file)"
   ]
  },
  {
   "cell_type": "markdown",
   "metadata": {},
   "source": [
    "### 2018 Data "
   ]
  },
  {
   "cell_type": "code",
   "execution_count": 17,
   "metadata": {},
   "outputs": [],
   "source": [
    "# create a dataframe with 2012 movies\n",
    "# df_2018 = get_details(find_links(2018))"
   ]
  },
  {
   "cell_type": "code",
   "execution_count": 18,
   "metadata": {},
   "outputs": [],
   "source": [
    "# save in a pickle file\n",
    "# with open(\"df_2018.pickle\", \"wb\") as file:\n",
    "#     pickle.dump(df_2018, file)"
   ]
  },
  {
   "cell_type": "markdown",
   "metadata": {},
   "source": [
    "### 2019 Data "
   ]
  },
  {
   "cell_type": "code",
   "execution_count": 19,
   "metadata": {},
   "outputs": [],
   "source": [
    "# create a dataframe with 2012 movies\n",
    "# df_2019 = get_details(find_links(2019))"
   ]
  },
  {
   "cell_type": "code",
   "execution_count": 20,
   "metadata": {},
   "outputs": [],
   "source": [
    "# save in a pickle file\n",
    "# with open(\"df_2019.pickle\", \"wb\") as file:\n",
    "#     pickle.dump(df_2019, file)"
   ]
  },
  {
   "cell_type": "markdown",
   "metadata": {},
   "source": [
    "### 2020 Data "
   ]
  },
  {
   "cell_type": "code",
   "execution_count": 21,
   "metadata": {},
   "outputs": [],
   "source": [
    "# create a dataframe with 2012 movies\n",
    "# df_2020 = get_details(find_links(2020))"
   ]
  },
  {
   "cell_type": "code",
   "execution_count": 22,
   "metadata": {},
   "outputs": [],
   "source": [
    "# save in a pickle file\n",
    "# with open(\"df_2020.pickle\", \"wb\") as file:\n",
    "#     pickle.dump(df_2020, file)"
   ]
  },
  {
   "cell_type": "markdown",
   "metadata": {},
   "source": [
    "### 2021 Data"
   ]
  },
  {
   "cell_type": "code",
   "execution_count": 23,
   "metadata": {},
   "outputs": [],
   "source": [
    "# create a dataframe with 2012 movies\n",
    "# df_2021 = get_details(find_links(2021))"
   ]
  },
  {
   "cell_type": "code",
   "execution_count": 24,
   "metadata": {},
   "outputs": [],
   "source": [
    "# save in a pickle file\n",
    "# with open(\"df_2021.pickle\", \"wb\") as file:\n",
    "#     pickle.dump(df_2021, file)"
   ]
  },
  {
   "cell_type": "markdown",
   "metadata": {},
   "source": [
    "## Step2: Data Cleaning"
   ]
  },
  {
   "cell_type": "code",
   "execution_count": 25,
   "metadata": {},
   "outputs": [],
   "source": [
    "# read in the data saved from each year\n",
    "data_list = []\n",
    "for i in range(2012, 2022):\n",
    "    with open(\"./pickles/df_\" + str(i) + \".pickle\", \"rb\") as file:\n",
    "        data_list.append(pickle.load(file))"
   ]
  },
  {
   "cell_type": "code",
   "execution_count": 26,
   "metadata": {},
   "outputs": [],
   "source": [
    "# combine dataframes together, remove prior to 2012, and sort by Release Date\n",
    "complete_df = pd.concat(data_list)\n",
    "complete_df = complete_df[complete_df[\"Release Date\"].dt.year > 2011]\n",
    "complete_df = complete_df.sort_values(\"Release Date\")"
   ]
  },
  {
   "cell_type": "code",
   "execution_count": 27,
   "metadata": {},
   "outputs": [],
   "source": [
    "# drop some of the unnecessary columns\n",
    "complete_df.drop(columns=[\"Movie Title\", \"Days In Release\", \"Rank on First Day\"], inplace=True)"
   ]
  },
  {
   "cell_type": "code",
   "execution_count": 28,
   "metadata": {
    "scrolled": true
   },
   "outputs": [
    {
     "data": {
      "text/html": [
       "<div>\n",
       "<style scoped>\n",
       "    .dataframe tbody tr th:only-of-type {\n",
       "        vertical-align: middle;\n",
       "    }\n",
       "\n",
       "    .dataframe tbody tr th {\n",
       "        vertical-align: top;\n",
       "    }\n",
       "\n",
       "    .dataframe thead th {\n",
       "        text-align: right;\n",
       "    }\n",
       "</style>\n",
       "<table border=\"1\" class=\"dataframe\">\n",
       "  <thead>\n",
       "    <tr style=\"text-align: right;\">\n",
       "      <th></th>\n",
       "      <th>Worldwide Gross</th>\n",
       "      <th>Distributor</th>\n",
       "      <th>Budget</th>\n",
       "      <th>Release Date</th>\n",
       "      <th>MPAA</th>\n",
       "      <th>Running Time</th>\n",
       "      <th>Genres</th>\n",
       "      <th>Number of Theaters</th>\n",
       "    </tr>\n",
       "  </thead>\n",
       "  <tbody>\n",
       "    <tr>\n",
       "      <td>0</td>\n",
       "      <td>101758490</td>\n",
       "      <td>Paramount Pictures</td>\n",
       "      <td>1000000.0</td>\n",
       "      <td>2012-01-06</td>\n",
       "      <td>R</td>\n",
       "      <td>01:23:00</td>\n",
       "      <td>Horror</td>\n",
       "      <td>2551.0</td>\n",
       "    </tr>\n",
       "    <tr>\n",
       "      <td>1</td>\n",
       "      <td>96262212</td>\n",
       "      <td>Universal Pictures</td>\n",
       "      <td>25000000.0</td>\n",
       "      <td>2012-01-13</td>\n",
       "      <td>R</td>\n",
       "      <td>01:49:00</td>\n",
       "      <td>Action Crime Drama Thriller</td>\n",
       "      <td>2870.0</td>\n",
       "    </tr>\n",
       "    <tr>\n",
       "      <td>2</td>\n",
       "      <td>34513760</td>\n",
       "      <td>Relativity Media</td>\n",
       "      <td>23000000.0</td>\n",
       "      <td>2012-01-20</td>\n",
       "      <td>R</td>\n",
       "      <td>01:33:00</td>\n",
       "      <td>Action Drama Thriller</td>\n",
       "      <td>2441.0</td>\n",
       "    </tr>\n",
       "    <tr>\n",
       "      <td>3</td>\n",
       "      <td>50365498</td>\n",
       "      <td>Twentieth Century Fox</td>\n",
       "      <td>58000000.0</td>\n",
       "      <td>2012-01-20</td>\n",
       "      <td>PG-13</td>\n",
       "      <td>02:05:00</td>\n",
       "      <td>Action Drama History War</td>\n",
       "      <td>2573.0</td>\n",
       "    </tr>\n",
       "    <tr>\n",
       "      <td>4</td>\n",
       "      <td>160112671</td>\n",
       "      <td>Screen Gems</td>\n",
       "      <td>70000000.0</td>\n",
       "      <td>2012-01-20</td>\n",
       "      <td>R</td>\n",
       "      <td>01:28:00</td>\n",
       "      <td>Action Fantasy Horror Sci-Fi</td>\n",
       "      <td>3078.0</td>\n",
       "    </tr>\n",
       "  </tbody>\n",
       "</table>\n",
       "</div>"
      ],
      "text/plain": [
       "   Worldwide Gross            Distributor      Budget Release Date   MPAA  \\\n",
       "0        101758490     Paramount Pictures   1000000.0   2012-01-06      R   \n",
       "1         96262212     Universal Pictures  25000000.0   2012-01-13      R   \n",
       "2         34513760       Relativity Media  23000000.0   2012-01-20      R   \n",
       "3         50365498  Twentieth Century Fox  58000000.0   2012-01-20  PG-13   \n",
       "4        160112671            Screen Gems  70000000.0   2012-01-20      R   \n",
       "\n",
       "  Running Time                        Genres  Number of Theaters  \n",
       "0     01:23:00                        Horror              2551.0  \n",
       "1     01:49:00   Action Crime Drama Thriller              2870.0  \n",
       "2     01:33:00         Action Drama Thriller              2441.0  \n",
       "3     02:05:00      Action Drama History War              2573.0  \n",
       "4     01:28:00  Action Fantasy Horror Sci-Fi              3078.0  "
      ]
     },
     "execution_count": 28,
     "metadata": {},
     "output_type": "execute_result"
    }
   ],
   "source": [
    "# drop duplicates and NA values, then reset the index\n",
    "complete_df.drop_duplicates(inplace=True)\n",
    "complete_df = complete_df.dropna()\n",
    "complete_df = complete_df.set_index(pd.Series(range(len(complete_df))))\n",
    "complete_df.head()"
   ]
  },
  {
   "cell_type": "code",
   "execution_count": 29,
   "metadata": {},
   "outputs": [],
   "source": [
    "# fix some of the distributor names\n",
    "complete_df[\"Distributor\"].replace(\"20th Century Studios\", \"Twentieth Century Fox\", inplace=True)\n",
    "complete_df[\"Distributor\"].replace(\"Fox Searchlight Pictures\", \"Twentieth Century Fox\", inplace=True)\n",
    "complete_df[\"Distributor\"].replace(\"Sony Pictures Classics\", \"Sony Pictures\", inplace=True)\n",
    "complete_df[\"Distributor\"].replace(\"Sony Pictures Entertainment (SPE)\", \"Sony Pictures\", inplace=True)\n",
    "complete_df[\"Distributor\"].replace(\"Walt Disney Studios Motion Pictures\", \"Walt Disney Pictures\", inplace=True)\n",
    "\n",
    "# combine many distributors into an \"other\" category\n",
    "extra = complete_df[\"Distributor\"].value_counts()[complete_df[\"Distributor\"].value_counts() <= 10].index\n",
    "for i in extra:\n",
    "    complete_df[\"Distributor\"].replace(i, \"Other Distributor\", inplace=True)"
   ]
  },
  {
   "cell_type": "code",
   "execution_count": 30,
   "metadata": {},
   "outputs": [],
   "source": [
    "# collect month and year information from Release Date\n",
    "complete_df[\"Release Month\"] = complete_df[\"Release Date\"].dt.strftime(\"%b\")\n",
    "complete_df[\"Release Year\"] = complete_df[\"Release Date\"].dt.year.astype(str)\n",
    "complete_df.drop(columns=\"Release Date\", inplace=True)"
   ]
  },
  {
   "cell_type": "code",
   "execution_count": 31,
   "metadata": {},
   "outputs": [],
   "source": [
    "# combine G and PG since there are very few G-rated movies\n",
    "complete_df[\"MPAA\"].replace(\"G\", \"G / PG\", inplace=True)\n",
    "complete_df[\"MPAA\"].replace(\"PG\", \"G / PG\", inplace=True)"
   ]
  },
  {
   "cell_type": "code",
   "execution_count": 32,
   "metadata": {},
   "outputs": [],
   "source": [
    "# convert the \"Running Time\" column into minutes (numerical data rather than timedelta)\n",
    "hours = complete_df[\"Running Time\"].dt.components[\"hours\"]\n",
    "minutes = complete_df[\"Running Time\"].dt.components[\"minutes\"]\n",
    "complete_df[\"Running Time\"] = hours*60 + minutes"
   ]
  },
  {
   "cell_type": "code",
   "execution_count": 33,
   "metadata": {},
   "outputs": [],
   "source": [
    "# create a list of all genres\n",
    "genres = []\n",
    "for i in complete_df[\"Genres\"]:\n",
    "    genres += i.split()\n",
    "\n",
    "# replace the ones with low counts\n",
    "extra = np.unique(genres)[np.unique(genres, return_counts=True)[1] <= 10]\n",
    "for i in extra:\n",
    "    complete_df[\"Genres\"] = complete_df[\"Genres\"].map(lambda x: x.replace(i, \"Other\") if i in x.split() else x)"
   ]
  },
  {
   "cell_type": "code",
   "execution_count": 34,
   "metadata": {},
   "outputs": [
    {
     "data": {
      "text/html": [
       "<div>\n",
       "<style scoped>\n",
       "    .dataframe tbody tr th:only-of-type {\n",
       "        vertical-align: middle;\n",
       "    }\n",
       "\n",
       "    .dataframe tbody tr th {\n",
       "        vertical-align: top;\n",
       "    }\n",
       "\n",
       "    .dataframe thead th {\n",
       "        text-align: right;\n",
       "    }\n",
       "</style>\n",
       "<table border=\"1\" class=\"dataframe\">\n",
       "  <thead>\n",
       "    <tr style=\"text-align: right;\">\n",
       "      <th></th>\n",
       "      <th>Worldwide Gross</th>\n",
       "      <th>Distributor</th>\n",
       "      <th>Budget</th>\n",
       "      <th>MPAA</th>\n",
       "      <th>Running Time</th>\n",
       "      <th>Genres</th>\n",
       "      <th>Number of Theaters</th>\n",
       "      <th>Release Month</th>\n",
       "      <th>Release Year</th>\n",
       "    </tr>\n",
       "  </thead>\n",
       "  <tbody>\n",
       "    <tr>\n",
       "      <td>0</td>\n",
       "      <td>101758490</td>\n",
       "      <td>Paramount Pictures</td>\n",
       "      <td>1000000.0</td>\n",
       "      <td>R</td>\n",
       "      <td>83</td>\n",
       "      <td>Horror</td>\n",
       "      <td>2551.0</td>\n",
       "      <td>Jan</td>\n",
       "      <td>2012</td>\n",
       "    </tr>\n",
       "    <tr>\n",
       "      <td>1</td>\n",
       "      <td>96262212</td>\n",
       "      <td>Universal Pictures</td>\n",
       "      <td>25000000.0</td>\n",
       "      <td>R</td>\n",
       "      <td>109</td>\n",
       "      <td>Action Crime Drama Thriller</td>\n",
       "      <td>2870.0</td>\n",
       "      <td>Jan</td>\n",
       "      <td>2012</td>\n",
       "    </tr>\n",
       "    <tr>\n",
       "      <td>2</td>\n",
       "      <td>34513760</td>\n",
       "      <td>Relativity Media</td>\n",
       "      <td>23000000.0</td>\n",
       "      <td>R</td>\n",
       "      <td>93</td>\n",
       "      <td>Action Drama Thriller</td>\n",
       "      <td>2441.0</td>\n",
       "      <td>Jan</td>\n",
       "      <td>2012</td>\n",
       "    </tr>\n",
       "    <tr>\n",
       "      <td>3</td>\n",
       "      <td>50365498</td>\n",
       "      <td>Twentieth Century Fox</td>\n",
       "      <td>58000000.0</td>\n",
       "      <td>PG-13</td>\n",
       "      <td>125</td>\n",
       "      <td>Action Drama History War</td>\n",
       "      <td>2573.0</td>\n",
       "      <td>Jan</td>\n",
       "      <td>2012</td>\n",
       "    </tr>\n",
       "    <tr>\n",
       "      <td>4</td>\n",
       "      <td>160112671</td>\n",
       "      <td>Screen Gems</td>\n",
       "      <td>70000000.0</td>\n",
       "      <td>R</td>\n",
       "      <td>88</td>\n",
       "      <td>Action Fantasy Horror Sci-Fi</td>\n",
       "      <td>3078.0</td>\n",
       "      <td>Jan</td>\n",
       "      <td>2012</td>\n",
       "    </tr>\n",
       "  </tbody>\n",
       "</table>\n",
       "</div>"
      ],
      "text/plain": [
       "   Worldwide Gross            Distributor      Budget   MPAA  Running Time  \\\n",
       "0        101758490     Paramount Pictures   1000000.0      R            83   \n",
       "1         96262212     Universal Pictures  25000000.0      R           109   \n",
       "2         34513760       Relativity Media  23000000.0      R            93   \n",
       "3         50365498  Twentieth Century Fox  58000000.0  PG-13           125   \n",
       "4        160112671            Screen Gems  70000000.0      R            88   \n",
       "\n",
       "                         Genres  Number of Theaters Release Month Release Year  \n",
       "0                        Horror              2551.0           Jan         2012  \n",
       "1   Action Crime Drama Thriller              2870.0           Jan         2012  \n",
       "2         Action Drama Thriller              2441.0           Jan         2012  \n",
       "3      Action Drama History War              2573.0           Jan         2012  \n",
       "4  Action Fantasy Horror Sci-Fi              3078.0           Jan         2012  "
      ]
     },
     "execution_count": 34,
     "metadata": {},
     "output_type": "execute_result"
    }
   ],
   "source": [
    "complete_df.head()"
   ]
  },
  {
   "cell_type": "code",
   "execution_count": 35,
   "metadata": {},
   "outputs": [
    {
     "name": "stdout",
     "output_type": "stream",
     "text": [
      "<class 'pandas.core.frame.DataFrame'>\n",
      "Int64Index: 909 entries, 0 to 908\n",
      "Data columns (total 9 columns):\n",
      "Worldwide Gross       909 non-null int64\n",
      "Distributor           909 non-null object\n",
      "Budget                909 non-null float64\n",
      "MPAA                  909 non-null object\n",
      "Running Time          909 non-null int64\n",
      "Genres                909 non-null object\n",
      "Number of Theaters    909 non-null float64\n",
      "Release Month         909 non-null object\n",
      "Release Year          909 non-null object\n",
      "dtypes: float64(2), int64(2), object(5)\n",
      "memory usage: 71.0+ KB\n"
     ]
    }
   ],
   "source": [
    "complete_df.info()"
   ]
  }
 ],
 "metadata": {
  "kernelspec": {
   "display_name": "Python 3",
   "language": "python",
   "name": "python3"
  },
  "language_info": {
   "codemirror_mode": {
    "name": "ipython",
    "version": 3
   },
   "file_extension": ".py",
   "mimetype": "text/x-python",
   "name": "python",
   "nbconvert_exporter": "python",
   "pygments_lexer": "ipython3",
   "version": "3.7.4"
  }
 },
 "nbformat": 4,
 "nbformat_minor": 2
}
